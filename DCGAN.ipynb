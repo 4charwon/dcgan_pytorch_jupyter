{
  "nbformat": 4,
  "nbformat_minor": 0,
  "metadata": {
    "colab": {
      "name": "gan tutorial",
      "provenance": [],
      "collapsed_sections": []
    },
    "kernelspec": {
      "name": "python3",
      "display_name": "Python 3"
    },
    "accelerator": "GPU"
  },
  "cells": [
    {
      "cell_type": "code",
      "metadata": {
        "id": "0WXE7UtuFzdW",
        "colab_type": "code",
        "colab": {
          "base_uri": "https://localhost:8080/",
          "height": 391
        },
        "outputId": "101aaa1f-511a-402f-9b68-d88ca8b7cf9c"
      },
      "source": [
        "!nvidia-smi"
      ],
      "execution_count": null,
      "outputs": [
        {
          "output_type": "stream",
          "text": [
            "Sun Sep  6 04:28:11 2020       \n",
            "+-----------------------------------------------------------------------------+\n",
            "| NVIDIA-SMI 450.66       Driver Version: 418.67       CUDA Version: 10.1     |\n",
            "|-------------------------------+----------------------+----------------------+\n",
            "| GPU  Name        Persistence-M| Bus-Id        Disp.A | Volatile Uncorr. ECC |\n",
            "| Fan  Temp  Perf  Pwr:Usage/Cap|         Memory-Usage | GPU-Util  Compute M. |\n",
            "|                               |                      |               MIG M. |\n",
            "|===============================+======================+======================|\n",
            "|   0  Tesla P4            Off  | 00000000:00:04.0 Off |                    0 |\n",
            "| N/A   38C    P8     7W /  75W |      0MiB /  7611MiB |      0%      Default |\n",
            "|                               |                      |                 ERR! |\n",
            "+-------------------------------+----------------------+----------------------+\n",
            "                                                                               \n",
            "+-----------------------------------------------------------------------------+\n",
            "| Processes:                                                                  |\n",
            "|  GPU   GI   CI        PID   Type   Process name                  GPU Memory |\n",
            "|        ID   ID                                                   Usage      |\n",
            "|=============================================================================|\n",
            "|  No running processes found                                                 |\n",
            "+-----------------------------------------------------------------------------+\n"
          ],
          "name": "stdout"
        }
      ]
    },
    {
      "cell_type": "code",
      "metadata": {
        "id": "uNpchpW61QEg",
        "colab_type": "code",
        "colab": {}
      },
      "source": [
        "import os\n",
        "import torch\n",
        "import torchvision\n",
        "import torch.nn as nn\n",
        "from torchvision import datasets\n",
        "from torchvision import transforms\n",
        "from torchvision.utils import save_image\n",
        "import torch.nn.functional as F\n",
        "from torch.autograd import Variable\n",
        "import numpy as np\n",
        "import matplotlib.pyplot as plt"
      ],
      "execution_count": null,
      "outputs": []
    },
    {
      "cell_type": "code",
      "metadata": {
        "id": "oVxSdui750n0",
        "colab_type": "code",
        "colab": {}
      },
      "source": [
        "prepro = transforms.Compose([transforms.Resize(64),transforms.ToTensor()])\n",
        "tensor_to_pil = transforms.ToPILImage()"
      ],
      "execution_count": null,
      "outputs": []
    },
    {
      "cell_type": "code",
      "metadata": {
        "id": "xEAqFxmb53YT",
        "colab_type": "code",
        "colab": {}
      },
      "source": [
        "mnist = datasets.MNIST(root='./MNIST',\n",
        "                       train=True,\n",
        "                       transform=prepro,\n",
        "                       download=True)"
      ],
      "execution_count": null,
      "outputs": []
    },
    {
      "cell_type": "code",
      "metadata": {
        "id": "L91JKPS-6IdS",
        "colab_type": "code",
        "colab": {}
      },
      "source": [
        "image, label = mnist[0]"
      ],
      "execution_count": null,
      "outputs": []
    },
    {
      "cell_type": "code",
      "metadata": {
        "id": "WD9oYVhD6MAR",
        "colab_type": "code",
        "colab": {}
      },
      "source": [
        "data_loader = torch.utils.data.DataLoader(dataset=mnist,\n",
        "                                          batch_size = 32,\n",
        "                                          shuffle = True,\n",
        "                                          num_workers = 2)"
      ],
      "execution_count": null,
      "outputs": []
    },
    {
      "cell_type": "code",
      "metadata": {
        "id": "aNv1jSCQ0tqo",
        "colab_type": "code",
        "colab": {}
      },
      "source": [
        "class Generator(nn.Module):\n",
        "  def __init__(self, z_dim=100):\n",
        "    super(Generator,self).__init__()\n",
        "    self.z_dim = z_dim\n",
        "    self.Deconv1 = nn.ConvTranspose2d(self.z_dim,1024,kernel_size=6,stride=1,padding=1)\n",
        "    self.bn1 = nn.BatchNorm2d(1024)\n",
        "    self.Deconv2 = nn.ConvTranspose2d(1024,512,kernel_size=4,stride=2,padding=1)\n",
        "    self.bn2 = nn.BatchNorm2d(512)\n",
        "    self.Deconv3 = nn.ConvTranspose2d(512,256,kernel_size=4,stride=2,padding=1)\n",
        "    self.bn3 = nn.BatchNorm2d(256)\n",
        "    self.Deconv4 = nn.ConvTranspose2d(256,128,kernel_size=4,stride=2,padding=1)\n",
        "    self.bn4 = nn.BatchNorm2d(128)\n",
        "    self.Deconv5 = nn.ConvTranspose2d(128,1,kernel_size=4,stride=2,padding=1)\n",
        "    self.bn5 = nn.BatchNorm2d(1)\n",
        "  \n",
        "  def forward(self,z):\n",
        "    z = z.view(z.size()[0],z.size()[1],1,1)\n",
        "    h = F.relu(self.bn1(self.Deconv1(z)))\n",
        "    h = F.relu(self.bn2(self.Deconv2(h)))\n",
        "    h = F.relu(self.bn3(self.Deconv3(h)))\n",
        "    h = F.relu(self.bn4(self.Deconv4(h)))\n",
        "    h = F.relu(self.bn5(self.Deconv5(h)))\n",
        "\n",
        "    image = F.tanh(h)\n",
        "    \n",
        "    return image"
      ],
      "execution_count": null,
      "outputs": []
    },
    {
      "cell_type": "code",
      "metadata": {
        "id": "QGik05Te31xR",
        "colab_type": "code",
        "colab": {}
      },
      "source": [
        "class Discriminator(nn.Module):\n",
        "  def __init__(self, image_size=784):\n",
        "    super(Discriminator, self).__init__()\n",
        "    self.Conv2d1 = nn.Conv2d(1,64,4,2,1);\n",
        "    self.Conv2d2 = nn.Conv2d(64,128,4,2,1);\n",
        "    self.BN2 = nn.BatchNorm2d(128);\n",
        "    self.Conv2d3 = nn.Conv2d(128,256,4,2,1);\n",
        "    self.BN3 = nn.BatchNorm2d(256);\n",
        "    self.Conv2d4 = nn.Conv2d(256,512,4,2,1);\n",
        "    self.BN4 = nn.BatchNorm2d(512);\n",
        "    self.Conv2d5 = nn.Conv2d(512,1,4,1,0);\n",
        "    self.LR = nn.LeakyReLU(0.2,inplace=True);\n",
        "\n",
        "  def forward(self, f_image):\n",
        "    h = self.LR(self.Conv2d1(f_image))\n",
        "    h = self.LR(self.BN2(self.Conv2d2(h)))\n",
        "    h = self.LR(self.BN3(self.Conv2d3(h)))\n",
        "    h = self.LR(self.BN4(self.Conv2d4(h)))\n",
        "    prob_real = F.sigmoid(self.Conv2d5(h))\n",
        "\n",
        "    return prob_real.view(prob_real.size()[0],1)"
      ],
      "execution_count": null,
      "outputs": []
    },
    {
      "cell_type": "code",
      "metadata": {
        "id": "zruGxbbb2FT3",
        "colab_type": "code",
        "colab": {}
      },
      "source": [
        "G = Generator().cuda()"
      ],
      "execution_count": null,
      "outputs": []
    },
    {
      "cell_type": "code",
      "metadata": {
        "id": "yNZwBE3u8-pC",
        "colab_type": "code",
        "colab": {}
      },
      "source": [
        "D = Discriminator().cuda()"
      ],
      "execution_count": null,
      "outputs": []
    },
    {
      "cell_type": "code",
      "metadata": {
        "id": "k2u-VCHU2-jx",
        "colab_type": "code",
        "colab": {}
      },
      "source": [
        "z = Variable(torch.randn(32,100))"
      ],
      "execution_count": null,
      "outputs": []
    },
    {
      "cell_type": "code",
      "metadata": {
        "id": "7nG7Tec23Xeg",
        "colab_type": "code",
        "colab": {
          "base_uri": "https://localhost:8080/",
          "height": 344
        },
        "outputId": "5331f27c-8976-4502-9125-5331d9d5953e"
      },
      "source": [
        "fake_image = G(z.cuda())\n",
        "fake_image.size()\n",
        "plt.imshow(fake_image.view(32,64,64)[0].cpu().detach())"
      ],
      "execution_count": null,
      "outputs": [
        {
          "output_type": "stream",
          "text": [
            "/usr/local/lib/python3.6/dist-packages/torch/nn/functional.py:1614: UserWarning: nn.functional.tanh is deprecated. Use torch.tanh instead.\n",
            "  warnings.warn(\"nn.functional.tanh is deprecated. Use torch.tanh instead.\")\n"
          ],
          "name": "stderr"
        },
        {
          "output_type": "execute_result",
          "data": {
            "text/plain": [
              "<matplotlib.image.AxesImage at 0x7fb9d1fa1e10>"
            ]
          },
          "metadata": {
            "tags": []
          },
          "execution_count": 84
        },
        {
          "output_type": "display_data",
          "data": {
            "image/png": "[encoded data removed]",
            "text/plain": [
              "<Figure size 432x288 with 1 Axes>"
            ]
          },
          "metadata": {
            "tags": [],
            "needs_background": "light"
          }
        }
      ]
    },
    {
      "cell_type": "code",
      "metadata": {
        "id": "Yhdk9LaQIM3h",
        "colab_type": "code",
        "colab": {
          "base_uri": "https://localhost:8080/",
          "height": 36
        },
        "outputId": "d14b1c96-4a81-4c83-bd26-f6e0db35afb1"
      },
      "source": [
        "fake_image.size()"
      ],
      "execution_count": null,
      "outputs": [
        {
          "output_type": "execute_result",
          "data": {
            "text/plain": [
              "torch.Size([32, 1, 64, 64])"
            ]
          },
          "metadata": {
            "tags": []
          },
          "execution_count": 85
        }
      ]
    },
    {
      "cell_type": "code",
      "metadata": {
        "id": "NDO6uHz58_w9",
        "colab_type": "code",
        "colab": {
          "base_uri": "https://localhost:8080/",
          "height": 75
        },
        "outputId": "d6a0b735-c30c-407a-8c46-fbc3096033a2"
      },
      "source": [
        "prob = D(fake_image)"
      ],
      "execution_count": null,
      "outputs": [
        {
          "output_type": "stream",
          "text": [
            "/usr/local/lib/python3.6/dist-packages/torch/nn/functional.py:1625: UserWarning: nn.functional.sigmoid is deprecated. Use torch.sigmoid instead.\n",
            "  warnings.warn(\"nn.functional.sigmoid is deprecated. Use torch.sigmoid instead.\")\n"
          ],
          "name": "stderr"
        }
      ]
    },
    {
      "cell_type": "code",
      "metadata": {
        "id": "ffWF8EN4C0db",
        "colab_type": "code",
        "colab": {}
      },
      "source": [
        "# Define optimizer\n",
        "d_optimizer = torch.optim.Adam(D.parameters(),lr=0.0002)\n",
        "g_optimizer = torch.optim.Adam(G.parameters(),lr=0.0002)"
      ],
      "execution_count": null,
      "outputs": []
    },
    {
      "cell_type": "code",
      "metadata": {
        "id": "RFg8MczKDyeD",
        "colab_type": "code",
        "colab": {}
      },
      "source": [
        "batch_size = 32\n",
        "z_dim = 100"
      ],
      "execution_count": null,
      "outputs": []
    },
    {
      "cell_type": "code",
      "metadata": {
        "id": "b_iBG3qzFRFn",
        "colab_type": "code",
        "colab": {}
      },
      "source": [
        "criterion = nn.BCELoss()"
      ],
      "execution_count": null,
      "outputs": []
    },
    {
      "cell_type": "code",
      "metadata": {
        "id": "lvLRqw7DOJaN",
        "colab_type": "code",
        "colab": {
          "base_uri": "https://localhost:8080/",
          "height": 241
        },
        "outputId": "76c04867-8c38-49b1-b946-49c573a784a5"
      },
      "source": [
        "D.cuda()\n",
        "G.cuda()"
      ],
      "execution_count": null,
      "outputs": [
        {
          "output_type": "execute_result",
          "data": {
            "text/plain": [
              "Generator(\n",
              "  (Deconv1): ConvTranspose2d(100, 1024, kernel_size=(6, 6), stride=(1, 1), padding=(1, 1))\n",
              "  (bn1): BatchNorm2d(1024, eps=1e-05, momentum=0.1, affine=True, track_running_stats=True)\n",
              "  (Deconv2): ConvTranspose2d(1024, 512, kernel_size=(4, 4), stride=(2, 2), padding=(1, 1))\n",
              "  (bn2): BatchNorm2d(512, eps=1e-05, momentum=0.1, affine=True, track_running_stats=True)\n",
              "  (Deconv3): ConvTranspose2d(512, 256, kernel_size=(4, 4), stride=(2, 2), padding=(1, 1))\n",
              "  (bn3): BatchNorm2d(256, eps=1e-05, momentum=0.1, affine=True, track_running_stats=True)\n",
              "  (Deconv4): ConvTranspose2d(256, 128, kernel_size=(4, 4), stride=(2, 2), padding=(1, 1))\n",
              "  (bn4): BatchNorm2d(128, eps=1e-05, momentum=0.1, affine=True, track_running_stats=True)\n",
              "  (Deconv5): ConvTranspose2d(128, 1, kernel_size=(4, 4), stride=(2, 2), padding=(1, 1))\n",
              "  (bn5): BatchNorm2d(1, eps=1e-05, momentum=0.1, affine=True, track_running_stats=True)\n",
              ")"
            ]
          },
          "metadata": {
            "tags": []
          },
          "execution_count": 90
        }
      ]
    },
    {
      "cell_type": "code",
      "metadata": {
        "id": "_xkByYKyFWU8",
        "colab_type": "code",
        "colab": {}
      },
      "source": [
        "# BCE Loss =  -y*log(x)-(1-y)*log(1-x)\n",
        "# y = 1 -> -log(x)\n",
        "# y = 0 -> -log(1-x)"
      ],
      "execution_count": null,
      "outputs": []
    },
    {
      "cell_type": "markdown",
      "metadata": {
        "id": "z4Mj2ujxbcQp",
        "colab_type": "text"
      },
      "source": [
        "logD(x)가 최대가 되어야한다.\n",
        "Real image에 대해서는 0부터 1사이의 probability 값 중 당연히 1에 가까운 값이 되어야한다.\n",
        "log함수의 경우 0~1의 x축에서 1에 가까워질수록 커짐.\n",
        "Maximization -> -를 붙여줘야한다. (optimization은 기본적으로 minimize라)\n",
        "\n",
        "Fake image 0에 가까운 값. log(1-x)는 0에서 최대."
      ]
    },
    {
      "cell_type": "code",
      "metadata": {
        "id": "42T9v0rh9CHN",
        "colab_type": "code",
        "colab": {
          "base_uri": "https://localhost:8080/",
          "height": 168
        },
        "outputId": "2854ad35-8f87-4701-a6cd-b630a486451e"
      },
      "source": [
        "for epoch in range(100):\n",
        "  for i, (images, _) in enumerate(data_loader):\n",
        "    ### Train D ###\n",
        "    images = Variable(images).cuda()\n",
        "    \n",
        "    z = Variable(torch.randn(batch_size, z_dim)).cuda()\n",
        "    real_labels = Variable(torch.ones(batch_size)).cuda()\n",
        "    fake_labels = Variable(torch.zeros(batch_size)).cuda()\n",
        "\n",
        "    ### train with real image\n",
        "    prob = D(images)\n",
        "    real_loss = criterion(prob,real_labels)\n",
        "    #real_label은 1, 따라서 -r*log(p)-(1-r)*log(1-p)=-log(p)\n",
        "\n",
        "    #log_prob = -torch.mean(torch.log(prob))\n",
        "\n",
        "    ### train with fake image\n",
        "\n",
        "    fake_image = G(z)\n",
        "    prob = D(fake_image)\n",
        "    fake_loss = criterion(prob,fake_labels)\n",
        "    #fake_label은 0, 따라서 -r*log(p)-(1-r)*log(1-p)=-log(1-p)\n",
        "\n",
        "    d_loss = real_loss + fake_loss # real, fake에 대해 각각 1, 0을 만들도록\n",
        "    d_optimizer.zero_grad()\n",
        "    #zero_grad : we need to set the gradients to zero before starting to do backprop because \n",
        "#pytorch accumulates the gradients on subsequent backward passes. This is convenient while training RNNs.\n",
        "#So the default action is to accumulate the gradients on every loss.backward() call.\n",
        "    d_loss.backward()\n",
        "    d_optimizer.step()\n",
        "\n",
        "    ### Train G ###\n",
        "\n",
        "    ### train with fake image\n",
        "    #geneartor 학습시에는 또다른 z를 생성. \n",
        "    #좀전에 가짜라고 한걸 진짜라고 하는것보다 다른 z를 sampling 하는게 좋음\n",
        "    z = Variable(torch.randn(batch_size, z_dim)).cuda()\n",
        "    fake_image = G(z)\n",
        "    prob = D(fake_image)\n",
        "    g_loss = criterion(prob,real_labels) # fake image를 real로 구분하도록\n",
        "\n",
        "    g_optimizer.zero_grad()\n",
        "    g_loss.backward()\n",
        "    g_optimizer.step()\n",
        "\n",
        "    if i % 100 == 0:\n",
        "      print('\\rEpoch %d, step %d, d_loss %.4f, g_loss %.4f'\n",
        "            %(epoch+1,i+1,d_loss.data,g_loss.data),end='');\n",
        "    if( i % 100 == 0 ):\n",
        "      fake_image = fake_image.view(batch_size,1, 64, 64)\n",
        "      sample_path = 'samples'#fake_img'+str(i)+'.jpg'\n",
        "      if not os.path.exists(sample_path):\n",
        "        os.makedirs(sample_path)\n",
        "      plt.figure(figsize=(5,10))\n",
        "      for ii in range(32):\n",
        "        plt.subplot(8,4,ii+1)\n",
        "        plt.imshow(fake_image[ii][0].cpu().detach().numpy())\n",
        "      plt.savefig(sample_path+'/fake_image%2d_%2d.png'%(epoch,i))\n",
        "      plt.close(\"all\")\n",
        "      \n",
        "  if (epoch+1) % 10 == 0 :\n",
        "    if not os.path.exists('models'):\n",
        "      os.makedirs('models')\n",
        "    torch.save(D,'models/discriminator_%3d.pt'%(epoch+1))\n",
        "    torch.save(G,'models/generator_%3d.pt'%(epoch+1))\n",
        "       \n"
      ],
      "execution_count": null,
      "outputs": [
        {
          "output_type": "stream",
          "text": [
            "/usr/local/lib/python3.6/dist-packages/torch/nn/functional.py:1625: UserWarning: nn.functional.sigmoid is deprecated. Use torch.sigmoid instead.\n",
            "  warnings.warn(\"nn.functional.sigmoid is deprecated. Use torch.sigmoid instead.\")\n",
            "/usr/local/lib/python3.6/dist-packages/torch/nn/modules/loss.py:529: UserWarning: Using a target size (torch.Size([32])) that is different to the input size (torch.Size([32, 1])) is deprecated. Please ensure they have the same size.\n",
            "  return F.binary_cross_entropy(input, target, weight=self.weight, reduction=self.reduction)\n",
            "/usr/local/lib/python3.6/dist-packages/torch/nn/functional.py:1614: UserWarning: nn.functional.tanh is deprecated. Use torch.tanh instead.\n",
            "  warnings.warn(\"nn.functional.tanh is deprecated. Use torch.tanh instead.\")\n"
          ],
          "name": "stderr"
        },
        {
          "output_type": "stream",
          "text": [
            "Epoch 7, step 1, d_loss 0.0686, g_loss 2.8393"
          ],
          "name": "stdout"
        }
      ]
    },
    {
      "cell_type": "code",
      "metadata": {
        "id": "fhzLUpJJA2F_",
        "colab_type": "code",
        "colab": {}
      },
      "source": [
        ""
      ],
      "execution_count": null,
      "outputs": []
    }
  ]
}